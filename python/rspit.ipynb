{
 "cells": [
  {
   "cell_type": "markdown",
   "metadata": {},
   "source": [
    "# rsplit\n",
    "\n",
    "오른쪽을 기준으로 문자열을 분리한다.\n",
    "\n",
    "첫번째 인자로 문자열을 자를 기준 문자\n",
    "\n",
    "두번째 인자로 몇번 자를지를 지정할 수 있다.(0 ⇒ 안자름)\n"
   ]
  },
  {
   "cell_type": "code",
   "execution_count": null,
   "metadata": {},
   "outputs": [
    {
     "data": {
      "text/plain": [
       "['ssrs.fdsfsf.fssdf.fsdf.sf.sdfs.s.fsdf.s']"
      ]
     },
     "metadata": {},
     "output_type": "display_data"
    }
   ],
   "source": [
    "\"ssrs.fdsfsf.fssdf.fsdf.sf.sdfs.s.fsdf.s\".rsplit(\".\", 0)"
   ]
  },
  {
   "cell_type": "code",
   "execution_count": null,
   "metadata": {},
   "outputs": [
    {
     "data": {
      "text/plain": [
       "['ssrs.fdsfsf.fssdf.fsdf.sf.sdfs.s.fsdf', 's']"
      ]
     },
     "metadata": {},
     "output_type": "display_data"
    }
   ],
   "source": [
    "\"ssrs.fdsfsf.fssdf.fsdf.sf.sdfs.s.fsdf.s\".rsplit(\".\", 1)"
   ]
  },
  {
   "cell_type": "code",
   "execution_count": null,
   "metadata": {},
   "outputs": [
    {
     "data": {
      "text/plain": [
       "['ssrs.fdsfsf.fssdf.fsdf.sf.sdfs.s', 'fsdf', 's']"
      ]
     },
     "metadata": {},
     "output_type": "display_data"
    }
   ],
   "source": [
    "\"ssrs.fdsfsf.fssdf.fsdf.sf.sdfs.s.fsdf.s\".rsplit(\".\", 2)"
   ]
  }
 ],
 "metadata": {
  "kernelspec": {
   "display_name": "fsdl",
   "language": "python",
   "name": "pytorch"
  },
  "orig_nbformat": 4
 },
 "nbformat": 4,
 "nbformat_minor": 2
}
