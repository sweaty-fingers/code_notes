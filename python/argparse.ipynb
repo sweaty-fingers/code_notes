{
 "cells": [
  {
   "cell_type": "markdown",
   "metadata": {},
   "source": [
    "# Argparse\n",
    "\n",
    "https://docs.python.org/ko/3/library/argparse.html"
   ]
  },
  {
   "cell_type": "markdown",
   "metadata": {},
   "source": [
    "파이썬 스크립트 실행과 동시에 인자를 전달해주고 싶을 때 사용"
   ]
  },
  {
   "cell_type": "code",
   "execution_count": 1,
   "metadata": {},
   "outputs": [],
   "source": [
    "import argparse"
   ]
  },
  {
   "cell_type": "markdown",
   "metadata": {},
   "source": [
    "_action_group"
   ]
  },
  {
   "cell_type": "code",
   "execution_count": 2,
   "metadata": {},
   "outputs": [
    {
     "data": {
      "text/plain": [
       "[<argparse._ArgumentGroup at 0x2061b0d6d30>,\n",
       " <argparse._ArgumentGroup at 0x2061b0e0af0>]"
      ]
     },
     "execution_count": 2,
     "metadata": {},
     "output_type": "execute_result"
    }
   ],
   "source": [
    "parser = argparse.ArgumentParser()\n",
    "\n",
    "# action group\n",
    "# group[0] 에는 positional arguments\n",
    "# group[1] 에는 optional arguments 들이 저장되어 있음\n",
    "parser._action_groups"
   ]
  },
  {
   "cell_type": "code",
   "execution_count": 3,
   "metadata": {},
   "outputs": [
    {
     "data": {
      "text/plain": [
       "'Test'"
      ]
     },
     "execution_count": 3,
     "metadata": {},
     "output_type": "execute_result"
    }
   ],
   "source": [
    "parser._action_groups[1].title = \"Test\"\n",
    "parser._action_groups[1].title"
   ]
  },
  {
   "cell_type": "markdown",
   "metadata": {},
   "source": [
    "## action"
   ]
  },
  {
   "cell_type": "code",
   "execution_count": 78,
   "metadata": {},
   "outputs": [
    {
     "data": {
      "text/plain": [
       "_StoreTrueAction(option_strings=['--badger'], dest='badger', nargs=0, const=True, default=False, type=None, choices=None, help=None, metavar=None)"
      ]
     },
     "execution_count": 78,
     "metadata": {},
     "output_type": "execute_result"
    }
   ],
   "source": [
    "# action='store_true\" // action: 호출되었을 경우 할 행동 'store_true': True 값 저장\n",
    "parser = argparse.ArgumentParser(description='Process some integers.')\n",
    "parser.add_argument('--foo', action='store_true')\n",
    "parser.add_argument('--badger', action='store_true')\n",
    "#parser.parse_known_args(['--foo', \"--badger\"])"
   ]
  },
  {
   "cell_type": "markdown",
   "metadata": {},
   "source": [
    "## parse_args\n",
    "ArgumentParser 는 parse_args() 메서드를 통해 인자를 파싱합니다. 이 메서드는 명령행을 검사하고 각 인자를 적절한 형으로 변환 한 다음 적절한 액션을 호출합니다. 대부분은, 이것은 간단한 Namespace 객체가 명령행에서 파싱 된 어트리뷰트들로 만들어진다는 것을 뜻합니다"
   ]
  },
  {
   "cell_type": "code",
   "execution_count": 80,
   "metadata": {},
   "outputs": [
    {
     "data": {
      "text/plain": [
       "Namespace(badger=False, foo=True)"
      ]
     },
     "execution_count": 80,
     "metadata": {},
     "output_type": "execute_result"
    }
   ],
   "source": [
    "parser.parse_args(['--foo'])"
   ]
  },
  {
   "cell_type": "markdown",
   "metadata": {},
   "source": [
    "## parse_known_args()"
   ]
  },
  {
   "cell_type": "markdown",
   "metadata": {},
   "source": [
    "parse_args와 유사하게 동작하지만 남는 인자가 있을 때 에러를 발생시키지 않는다.    \n",
    "첫번째 반환값으로 채워진 인자값을 지닌 Namespace, 두번째 인자로 남는 인자 문자열을 가진 튜플을 반환한다. "
   ]
  },
  {
   "cell_type": "code",
   "execution_count": 88,
   "metadata": {},
   "outputs": [
    {
     "data": {
      "text/plain": [
       "_StoreAction(option_strings=[], dest='bb', nargs=None, const=None, default=None, type=None, choices=None, help=None, metavar=None)"
      ]
     },
     "execution_count": 88,
     "metadata": {},
     "output_type": "execute_result"
    }
   ],
   "source": [
    "parser = argparse.ArgumentParser(description='Process some integers.')\n",
    "parser.add_argument('--foo', action='store_true')\n",
    "parser.add_argument('--badger')\n",
    "parser.add_argument('bb')"
   ]
  },
  {
   "cell_type": "code",
   "execution_count": 92,
   "metadata": {},
   "outputs": [
    {
     "name": "stderr",
     "output_type": "stream",
     "text": [
      "usage: ipykernel_launcher.py [-h] [--foo] [--badger BADGER] bb\n",
      "ipykernel_launcher.py: error: unrecognized arguments: cc\n"
     ]
    },
    {
     "ename": "SystemExit",
     "evalue": "2",
     "output_type": "error",
     "traceback": [
      "An exception has occurred, use %tb to see the full traceback.\n",
      "\u001b[1;31mSystemExit\u001b[0m\u001b[1;31m:\u001b[0m 2\n"
     ]
    }
   ],
   "source": [
    "parser.parse_args(['--foo', \"BB\", \"--badger\", \"aa\", \"cc\"])"
   ]
  },
  {
   "cell_type": "code",
   "execution_count": 93,
   "metadata": {},
   "outputs": [
    {
     "data": {
      "text/plain": [
       "(Namespace(badger='aa', bb='BB', foo=True), ['cc'])"
      ]
     },
     "execution_count": 93,
     "metadata": {},
     "output_type": "execute_result"
    }
   ],
   "source": [
    "parser.parse_known_args(['--foo', \"BB\", \"--badger\", \"aa\", \"cc\"])"
   ]
  },
  {
   "cell_type": "markdown",
   "metadata": {},
   "source": [
    "## 그룹으로 관리"
   ]
  },
  {
   "cell_type": "code",
   "execution_count": 8,
   "metadata": {},
   "outputs": [],
   "source": [
    "import argparse"
   ]
  },
  {
   "cell_type": "code",
   "execution_count": 55,
   "metadata": {},
   "outputs": [
    {
     "name": "stdout",
     "output_type": "stream",
     "text": [
      "usage: PROG [--foo FOO] bar\n",
      "\n",
      "group:\n",
      "  --foo FOO  foo help\n",
      "  bar        bar help\n"
     ]
    }
   ],
   "source": [
    "# prog: usage에 표시되는 이름을 바꾼다.\n",
    "parser2 = argparse.ArgumentParser(prog='PROG', add_help=False)\n",
    "group = parser2.add_argument_group('group')\n",
    "group.add_argument('--foo', help='foo help')\n",
    "group.add_argument('bar', help='bar help')\n",
    "parser2.print_help()"
   ]
  },
  {
   "cell_type": "markdown",
   "metadata": {},
   "source": [
    "_action_groups의 인자가 추가된다"
   ]
  },
  {
   "cell_type": "code",
   "execution_count": 64,
   "metadata": {},
   "outputs": [
    {
     "data": {
      "text/plain": [
       "[<argparse._ArgumentGroup at 0x20638bafd30>,\n",
       " <argparse._ArgumentGroup at 0x20638baf070>,\n",
       " <argparse._ArgumentGroup at 0x2061b13e9a0>]"
      ]
     },
     "execution_count": 64,
     "metadata": {},
     "output_type": "execute_result"
    }
   ],
   "source": [
    "parser2._action_groups"
   ]
  },
  {
   "cell_type": "code",
   "execution_count": 16,
   "metadata": {},
   "outputs": [
    {
     "data": {
      "text/plain": [
       "'group'"
      ]
     },
     "execution_count": 16,
     "metadata": {},
     "output_type": "execute_result"
    }
   ],
   "source": [
    "parser2._action_groups[2].title"
   ]
  },
  {
   "cell_type": "code",
   "execution_count": 60,
   "metadata": {},
   "outputs": [],
   "source": [
    "known_args, _ = parser2.parse_known_args()"
   ]
  },
  {
   "cell_type": "code",
   "execution_count": 61,
   "metadata": {},
   "outputs": [
    {
     "data": {
      "text/plain": [
       "Namespace(bar='C:\\\\Users\\\\ftmlab\\\\AppData\\\\Roaming\\\\jupyter\\\\runtime\\\\kernel-4eb6459c-aaea-41c1-9a11-38a31e3d5468.json', foo=None)"
      ]
     },
     "execution_count": 61,
     "metadata": {},
     "output_type": "execute_result"
    }
   ],
   "source": [
    "known_args"
   ]
  },
  {
   "cell_type": "markdown",
   "metadata": {},
   "source": [
    "## Pytorch_lightning의 parser 추가하기"
   ]
  },
  {
   "cell_type": "markdown",
   "metadata": {},
   "source": [
    "주의: optional actiongroup의 이름을 바꿔주고 ArgumentParser의 parents 인자로 추가해주어야 argument를 구분해서 관리할 수 있다."
   ]
  },
  {
   "cell_type": "code",
   "execution_count": 17,
   "metadata": {},
   "outputs": [],
   "source": [
    "import pytorch_lightning as pl"
   ]
  },
  {
   "cell_type": "code",
   "execution_count": 41,
   "metadata": {},
   "outputs": [],
   "source": [
    "parser = argparse.ArgumentParser()\n",
    "trainer_parser = pl.Trainer.add_argparse_args(parser)"
   ]
  },
  {
   "cell_type": "code",
   "execution_count": 42,
   "metadata": {},
   "outputs": [
    {
     "data": {
      "text/plain": [
       "[<argparse._ArgumentGroup at 0x20638c6fbb0>,\n",
       " <argparse._ArgumentGroup at 0x20638c6f790>]"
      ]
     },
     "execution_count": 42,
     "metadata": {},
     "output_type": "execute_result"
    }
   ],
   "source": [
    "parser._action_groups"
   ]
  },
  {
   "cell_type": "code",
   "execution_count": 43,
   "metadata": {},
   "outputs": [
    {
     "data": {
      "text/plain": [
       "[<argparse._ArgumentGroup at 0x20638c6f820>,\n",
       " <argparse._ArgumentGroup at 0x20638c6f8b0>]"
      ]
     },
     "execution_count": 43,
     "metadata": {},
     "output_type": "execute_result"
    }
   ],
   "source": [
    "trainer_parser._action_groups"
   ]
  },
  {
   "cell_type": "code",
   "execution_count": 33,
   "metadata": {},
   "outputs": [
    {
     "name": "stdout",
     "output_type": "stream",
     "text": [
      "positional arguments\n",
      "optional arguments\n"
     ]
    }
   ],
   "source": [
    "for i in range(len(trainer_parser._action_groups)):\n",
    "    print(trainer_parser._action_groups[i].title)"
   ]
  },
  {
   "cell_type": "code",
   "execution_count": 44,
   "metadata": {},
   "outputs": [],
   "source": [
    "parser = argparse.ArgumentParser(add_help=False, parents=[trainer_parser])"
   ]
  },
  {
   "cell_type": "code",
   "execution_count": 46,
   "metadata": {},
   "outputs": [
    {
     "data": {
      "text/plain": [
       "[<argparse._ArgumentGroup at 0x20638baad60>,\n",
       " <argparse._ArgumentGroup at 0x20638baa7c0>]"
      ]
     },
     "execution_count": 46,
     "metadata": {},
     "output_type": "execute_result"
    }
   ],
   "source": [
    "parser._action_groups"
   ]
  },
  {
   "cell_type": "code",
   "execution_count": 47,
   "metadata": {},
   "outputs": [],
   "source": [
    "parser = argparse.ArgumentParser()\n",
    "trainer_parser = pl.Trainer.add_argparse_args(parser)"
   ]
  },
  {
   "cell_type": "code",
   "execution_count": 48,
   "metadata": {},
   "outputs": [
    {
     "data": {
      "text/plain": [
       "[<argparse._ArgumentGroup at 0x20638c7a910>,\n",
       " <argparse._ArgumentGroup at 0x20638c7a040>]"
      ]
     },
     "execution_count": 48,
     "metadata": {},
     "output_type": "execute_result"
    }
   ],
   "source": [
    "parser._action_groups"
   ]
  },
  {
   "cell_type": "code",
   "execution_count": 49,
   "metadata": {},
   "outputs": [
    {
     "data": {
      "text/plain": [
       "[<argparse._ArgumentGroup at 0x20638c7adf0>,\n",
       " <argparse._ArgumentGroup at 0x20638c7a730>]"
      ]
     },
     "execution_count": 49,
     "metadata": {},
     "output_type": "execute_result"
    }
   ],
   "source": [
    "trainer_parser._action_groups"
   ]
  },
  {
   "cell_type": "code",
   "execution_count": 50,
   "metadata": {},
   "outputs": [],
   "source": [
    "# optional actiongroup의 이름을 바꿔주고 ArgumentParser의 parents 인자로 추가해주어야 argument를 구분해서 관리할 수 있다.\n",
    "trainer_parser._action_groups[1].title = \"Trainer Args\""
   ]
  },
  {
   "cell_type": "code",
   "execution_count": 51,
   "metadata": {},
   "outputs": [
    {
     "data": {
      "text/plain": [
       "[<argparse._ArgumentGroup at 0x20638c7adf0>,\n",
       " <argparse._ArgumentGroup at 0x20638c7a730>]"
      ]
     },
     "execution_count": 51,
     "metadata": {},
     "output_type": "execute_result"
    }
   ],
   "source": [
    "trainer_parser._action_groups"
   ]
  },
  {
   "cell_type": "code",
   "execution_count": 52,
   "metadata": {},
   "outputs": [],
   "source": [
    "parser = argparse.ArgumentParser(add_help=False, parents=[trainer_parser])"
   ]
  },
  {
   "cell_type": "code",
   "execution_count": 53,
   "metadata": {},
   "outputs": [
    {
     "data": {
      "text/plain": [
       "[<argparse._ArgumentGroup at 0x20638baa3d0>,\n",
       " <argparse._ArgumentGroup at 0x20638baad90>,\n",
       " <argparse._ArgumentGroup at 0x20638baa880>]"
      ]
     },
     "execution_count": 53,
     "metadata": {},
     "output_type": "execute_result"
    }
   ],
   "source": [
    "parser._action_groups"
   ]
  },
  {
   "cell_type": "code",
   "execution_count": 54,
   "metadata": {},
   "outputs": [
    {
     "name": "stdout",
     "output_type": "stream",
     "text": [
      "positional arguments\n",
      "optional arguments\n",
      "Trainer Args\n"
     ]
    }
   ],
   "source": [
    "for i in range(len(parser._action_groups)):\n",
    "    print(parser._action_groups[i].title)"
   ]
  }
 ],
 "metadata": {
  "kernelspec": {
   "display_name": "fsdl",
   "language": "python",
   "name": "pytorch"
  },
  "language_info": {
   "codemirror_mode": {
    "name": "ipython",
    "version": 3
   },
   "file_extension": ".py",
   "mimetype": "text/x-python",
   "name": "python",
   "nbconvert_exporter": "python",
   "pygments_lexer": "ipython3",
   "version": "3.8.8"
  },
  "orig_nbformat": 4
 },
 "nbformat": 4,
 "nbformat_minor": 2
}
