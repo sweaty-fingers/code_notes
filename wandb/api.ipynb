{
 "cells": [
  {
   "cell_type": "markdown",
   "metadata": {},
   "source": [
    "# wandb api를 사용하여 최적 모델 저장하기"
   ]
  },
  {
   "cell_type": "code",
   "execution_count": 18,
   "metadata": {},
   "outputs": [],
   "source": [
    "\n",
    "import argparse\n",
    "import sys\n",
    "import shutil\n",
    "import json\n",
    "from pathlib import Path\n",
    "import tempfile\n",
    "from typing import Optional, Union\n",
    "import wandb\n",
    "from IPython.display import Image"
   ]
  },
  {
   "cell_type": "code",
   "execution_count": 8,
   "metadata": {},
   "outputs": [],
   "source": [
    "# 현재 주피터 노트북 파일 경로\n",
    "file_path = r\"C:\\Users\\ftmlab\\Documents\\hyoon\\side_project\\code_note\\wandb\\api.ipynb\""
   ]
  },
  {
   "cell_type": "code",
   "execution_count": 71,
   "metadata": {},
   "outputs": [],
   "source": [
    "FILE_NAME = Path(file_path).resolve()\n",
    "\n",
    "# 최적 모델을 저장할 경로,\n",
    "# 로컬에서 로그가 저장되어 있는 루트 경로 설정\n",
    "SAVED_MODEL_DIRNAME = FILE_NAME.parents[0] / \"saved_model\"\n",
    "TRAINING_LOGS_DIRNAME = FILE_NAME.parent / \"logs\""
   ]
  },
  {
   "cell_type": "markdown",
   "metadata": {},
   "source": [
    "entity: userid    \n",
    "project: 프로젝트 이름    \n",
    "train_data_class: 훈련에 사용한 데이터 클래스    \n",
    "metric: 최적 모델을 정할 기준 metric    \n",
    "mode: metric의 최적을 정하는 기준    \n",
    "\n",
    "entity와 project 이름은 wandb 웹에 접속한 후 run의 overview 페이지에서 \"run path\"를 보면 확인할 수 있다.\n",
    "\"Run path\" 의 포멧은 다음과 같다.    \n",
    "`<entity>/<project>/<run_id>`    \n",
    "![wandb_overview](\".\\images\\wandb_overview_run_path.PNG\")"
   ]
  },
  {
   "cell_type": "code",
   "execution_count": 28,
   "metadata": {},
   "outputs": [],
   "source": [
    "entity = \"hgyoon0928\"\n",
    "project = \"Full-stack-deeplearning-LABs_lab5_training\"\n",
    "trained_data_class = \"EMNISTLines2\"\n",
    "metric = \"val_loss\"\n",
    "mode = \"min\""
   ]
  },
  {
   "cell_type": "markdown",
   "metadata": {},
   "source": [
    "## Run 불러오고 정렬하기"
   ]
  },
  {
   "cell_type": "markdown",
   "metadata": {},
   "source": [
    "mode에 따라 내림차순으로 정렬할지 오른차순으로 정렬할지 정한다.    \n",
    "data_class를 사용한 run들을 matric 값으로 정렬한 후 맨 앞 run 정보를 가져오는 방식으로 최적의 run을 가져온다."
   ]
  },
  {
   "cell_type": "code",
   "execution_count": 16,
   "metadata": {},
   "outputs": [],
   "source": [
    "if mode == \"min\":\n",
    "    default_metric_value = sys.maxsize\n",
    "    sort_reverse = False\n",
    "else:\n",
    "    default_metric_value = 0\n",
    "    sort_reverse = True"
   ]
  },
  {
   "cell_type": "markdown",
   "metadata": {},
   "source": [
    "1. wandb apl 인스턴스를 받은 후 config의 trained_data_class에 해당하는 run들만 추출한다.\n",
    "2. runs을 metric 값으로 정렬한 후 가장 앞 run(최적 모델)을 받는다.\n",
    "\n",
    "![wandb_overview_config](images\\wandb_overview_config.PNG\")"
   ]
  },
  {
   "cell_type": "code",
   "execution_count": 23,
   "metadata": {},
   "outputs": [],
   "source": [
    "def _get_summary_value(wandb_run: wandb.apis.public.Run, key: str, default: int) -> Union[int, float]:\n",
    "    \"\"\"\n",
    "       key에 해당하는 수치 값(summary[key])을 반환한다. 값이 타당한 자료형이 아니면 디폴트 값을 반환한다.\n",
    "    \"\"\"\n",
    "    value = wandb_run.summary.get(key, default)\n",
    "    if not isinstance(value, (int, float)):\n",
    "        value = default\n",
    "    return value"
   ]
  },
  {
   "cell_type": "code",
   "execution_count": 29,
   "metadata": {},
   "outputs": [
    {
     "name": "stdout",
     "output_type": "stream",
     "text": [
      "Best run (polar-sweep-4, yolbb6ft) picked from 39 runs with the following metrics:\n",
      " - val_loss: 0.15537147223949432, val_cer: 0.05063715577125549, test_cer: 0.04524993523955345\n"
     ]
    }
   ],
   "source": [
    "api = wandb.Api()\n",
    "# filter에 따라 runs 불러오기\n",
    "runs = api.runs(f\"{entity}/{project}\", filters={\"config.data_class\": trained_data_class})\n",
    "# metric으로 runs 정렬\n",
    "sorted_runs = sorted(\n",
    "        runs,\n",
    "        key=lambda run: _get_summary_value(wandb_run=run, key=metric, default=default_metric_value),\n",
    "        reverse=sort_reverse,\n",
    "    )\n",
    "best_run = sorted_runs[0]\n",
    "summary = best_run.summary\n",
    "# name, id\n",
    "print(f\"Best run ({best_run.name}, {best_run.id}) picked from {len(runs)} runs with the following metrics:\")\n",
    "print(f\" - val_loss: {summary['val_loss']}, val_cer: {summary['val_cer']}, test_cer: {summary['test_cer']}\")"
   ]
  },
  {
   "cell_type": "markdown",
   "metadata": {},
   "source": [
    "## summary와 config 정보 가져오기"
   ]
  },
  {
   "cell_type": "markdown",
   "metadata": {},
   "source": [
    "각 정보는 딕셔너리처럼 사용 가능하다."
   ]
  },
  {
   "cell_type": "code",
   "execution_count": 45,
   "metadata": {},
   "outputs": [
    {
     "name": "stdout",
     "output_type": "stream",
     "text": [
      "<class 'dict'>\n",
      "<class 'wandb.old.summary.HTTPSummary'>\n"
     ]
    }
   ],
   "source": [
    "print(type(runs[0].config))\n",
    "print(type(runs[0].summary))"
   ]
  },
  {
   "cell_type": "code",
   "execution_count": 39,
   "metadata": {},
   "outputs": [
    {
     "data": {
      "text/plain": [
       "'NaN'"
      ]
     },
     "execution_count": 39,
     "metadata": {},
     "output_type": "execute_result"
    }
   ],
   "source": [
    "runs[0].summary.get(\"val_loss\", default_metric_value)"
   ]
  },
  {
   "cell_type": "code",
   "execution_count": 41,
   "metadata": {},
   "outputs": [
    {
     "data": {
      "text/plain": [
       "{'lr': 0.01,\n",
       " 'gpus': 1,\n",
       " 'loss': 'transformer',\n",
       " 'wandb': True,\n",
       " 'fc_dim': 512,\n",
       " 'logger': True,\n",
       " 'tf_dim': 64,\n",
       " 'plugins': 'None',\n",
       " 'conv_dim': 64,\n",
       " 'profiler': 'None',\n",
       " 'tf_nhead': 8,\n",
       " 'amp_level': 'O2',\n",
       " 'benchmark': False,\n",
       " 'max_steps': 'None',\n",
       " 'min_steps': 'None',\n",
       " 'num_nodes': 1,\n",
       " 'optimizer': 'Adam',\n",
       " 'precision': 16,\n",
       " 'tf_fc_dim': 128,\n",
       " 'tf_layers': 4,\n",
       " 'tpu_cores': '_gpus_arg_default',\n",
       " 'batch_size': 32,\n",
       " 'data_class': 'EMNISTLines2',\n",
       " 'max_epochs': 'None',\n",
       " 'max_length': 43,\n",
       " 'min_epochs': 'None',\n",
       " 'tf_dropout': 0.4,\n",
       " 'accelerator': 'None',\n",
       " 'amp_backend': 'native',\n",
       " 'max_overlap': 0.5,\n",
       " 'min_overlap': 0.2,\n",
       " 'model_class': 'LineCNNTransformer',\n",
       " 'num_workers': 1,\n",
       " 'augment_data': 'true',\n",
       " 'auto_lr_find': False,\n",
       " 'fast_dev_run': False,\n",
       " 'window_width': 16,\n",
       " 'deterministic': False,\n",
       " 'num_processes': 1,\n",
       " 'window_stride': 8,\n",
       " 'log_gpu_memory': 'None',\n",
       " 'sync_batchnorm': False,\n",
       " 'load_checkpoint': 'None',\n",
       " 'overfit_batches': 0,\n",
       " 'track_grad_norm': -1,\n",
       " 'weights_summary': 'top',\n",
       " 'auto_select_gpus': False,\n",
       " 'default_root_dir': 'None',\n",
       " 'one_cycle_max_lr': 'None',\n",
       " 'process_position': 0,\n",
       " 'terminate_on_nan': False,\n",
       " 'gradient_clip_val': 0,\n",
       " 'limit_val_batches': 1,\n",
       " 'log_every_n_steps': 50,\n",
       " 'weights_save_path': 'None',\n",
       " 'limit_test_batches': 1,\n",
       " 'val_check_interval': 1,\n",
       " 'checkpoint_callback': True,\n",
       " 'distributed_backend': 'None',\n",
       " 'enable_pl_optimizer': 'None',\n",
       " 'limit_output_length': False,\n",
       " 'limit_train_batches': 1,\n",
       " 'move_metrics_to_cpu': False,\n",
       " 'replace_sampler_ddp': True,\n",
       " 'num_sanity_val_steps': 2,\n",
       " 'truncated_bptt_steps': 'None',\n",
       " 'auto_scale_batch_size': False,\n",
       " 'limit_predict_batches': 1,\n",
       " 'one_cycle_total_steps': 100,\n",
       " 'prepare_data_per_node': True,\n",
       " 'stochastic_weight_avg': False,\n",
       " 'automatic_optimization': 'None',\n",
       " 'resume_from_checkpoint': 'None',\n",
       " 'accumulate_grad_batches': 1,\n",
       " 'check_val_every_n_epoch': 1,\n",
       " 'flush_logs_every_n_steps': 100,\n",
       " 'multiple_trainloader_mode': 'max_size_cycle',\n",
       " 'progress_bar_refresh_rate': 'None',\n",
       " 'reload_dataloaders_every_epoch': False}"
      ]
     },
     "execution_count": 41,
     "metadata": {},
     "output_type": "execute_result"
    }
   ],
   "source": [
    "runs[0].config"
   ]
  },
  {
   "cell_type": "markdown",
   "metadata": {},
   "source": [
    "## wandb 서버에서 불러와서 저장하기"
   ]
  },
  {
   "cell_type": "code",
   "execution_count": 59,
   "metadata": {},
   "outputs": [],
   "source": [
    "run_for_download_ckpt = [run for run in runs if run.name == \"lucky-salad-3\"][0]"
   ]
  },
  {
   "cell_type": "code",
   "execution_count": 60,
   "metadata": {},
   "outputs": [],
   "source": [
    "checkpoint_wandb_files = [file for file in run_for_download_ckpt.files() if file.name.endswith(\".ckpt\")]"
   ]
  },
  {
   "cell_type": "code",
   "execution_count": 61,
   "metadata": {},
   "outputs": [
    {
     "data": {
      "text/plain": [
       "[<File training/logs/Full-stack-deeplearning-LABs_lab5_training/1e1oluxs/checkpoints/epoch=009-val_loss=2.499-val_cer=0.770.ckpt () 54.2MiB>]"
      ]
     },
     "execution_count": 61,
     "metadata": {},
     "output_type": "execute_result"
    }
   ],
   "source": [
    "checkpoint_wandb_files # 없으면 빈 리스트 반환"
   ]
  },
  {
   "cell_type": "code",
   "execution_count": 64,
   "metadata": {},
   "outputs": [
    {
     "data": {
      "text/plain": [
       "<File training/logs/Full-stack-deeplearning-LABs_lab5_training/1e1oluxs/checkpoints/epoch=009-val_loss=2.499-val_cer=0.770.ckpt () 54.2MiB>"
      ]
     },
     "execution_count": 64,
     "metadata": {},
     "output_type": "execute_result"
    }
   ],
   "source": [
    "wandb_file = checkpoint_wandb_files[0]\n",
    "wandb_file"
   ]
  },
  {
   "cell_type": "code",
   "execution_count": 65,
   "metadata": {},
   "outputs": [
    {
     "data": {
      "text/plain": [
       "'training/logs/Full-stack-deeplearning-LABs_lab5_training/1e1oluxs/checkpoints/epoch=009-val_loss=2.499-val_cer=0.770.ckpt'"
      ]
     },
     "execution_count": 65,
     "metadata": {},
     "output_type": "execute_result"
    }
   ],
   "source": [
    "wandb_file.name"
   ]
  },
  {
   "cell_type": "code",
   "execution_count": 74,
   "metadata": {},
   "outputs": [
    {
     "name": "stdout",
     "output_type": "stream",
     "text": [
      "Model checkpoint downloaded from wandb\n",
      "C:\\Users\\ftmlab\\Documents\\hyoon\\side_project\\code_note\\wandb\\saved_model\\model.pt\n"
     ]
    }
   ],
   "source": [
    "wandb_file = checkpoint_wandb_files[0]\n",
    "with tempfile.TemporaryDirectory() as tmp_dirname:\n",
    "    wandb_file.download(root=tmp_dirname, replace=True)\n",
    "    checkpoint_filename = f\"{tmp_dirname}/{wandb_file.name}\"\n",
    "    shutil.copyfile(src=checkpoint_filename, dst=SAVED_MODEL_DIRNAME / \"model.pt\")\n",
    "    print(\"Model checkpoint downloaded from wandb\")\n",
    "print(SAVED_MODEL_DIRNAME / \"model.pt\")"
   ]
  },
  {
   "cell_type": "markdown",
   "metadata": {},
   "source": []
  }
 ],
 "metadata": {
  "kernelspec": {
   "display_name": "fsdl",
   "language": "python",
   "name": "pytorch"
  },
  "language_info": {
   "codemirror_mode": {
    "name": "ipython",
    "version": 3
   },
   "file_extension": ".py",
   "mimetype": "text/x-python",
   "name": "python",
   "nbconvert_exporter": "python",
   "pygments_lexer": "ipython3",
   "version": "3.8.8"
  },
  "orig_nbformat": 4
 },
 "nbformat": 4,
 "nbformat_minor": 2
}
